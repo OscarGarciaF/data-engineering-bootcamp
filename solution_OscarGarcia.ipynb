{
  "cells": [
    {
      "cell_type": "code",
      "execution_count": 1,
      "metadata": {
        "id": "oatRZYdeAEcL"
      },
      "outputs": [],
      "source": [
        "import findspark\n",
        "from pyspark import SparkContext\n",
        "from pyspark.sql import *\n",
        "from pyspark.sql.functions import *\n",
        "from pyspark.sql.window import *\n",
        "import pandas as pd\n",
        "findspark.init()\n",
        "spark = SparkSession.builder.getOrCreate()"
      ]
    },
    {
      "cell_type": "code",
      "execution_count": 20,
      "metadata": {},
      "outputs": [],
      "source": [
        "path = \"C:/Users/garci/Documents/Wizeline/all_data.csv\"\n",
        "df = spark.read.csv(path, header=True, inferSchema= True)"
      ]
    },
    {
      "cell_type": "code",
      "execution_count": 21,
      "metadata": {},
      "outputs": [
        {
          "data": {
            "text/html": [
              "<div>\n",
              "<style scoped>\n",
              "    .dataframe tbody tr th:only-of-type {\n",
              "        vertical-align: middle;\n",
              "    }\n",
              "\n",
              "    .dataframe tbody tr th {\n",
              "        vertical-align: top;\n",
              "    }\n",
              "\n",
              "    .dataframe thead th {\n",
              "        text-align: right;\n",
              "    }\n",
              "</style>\n",
              "<table border=\"1\" class=\"dataframe\">\n",
              "  <thead>\n",
              "    <tr style=\"text-align: right;\">\n",
              "      <th></th>\n",
              "      <th>estado</th>\n",
              "    </tr>\n",
              "  </thead>\n",
              "  <tbody>\n",
              "    <tr>\n",
              "      <th>0</th>\n",
              "      <td>QUINTANA ROO</td>\n",
              "    </tr>\n",
              "    <tr>\n",
              "      <th>1</th>\n",
              "      <td>NUEVO LEÓN</td>\n",
              "    </tr>\n",
              "    <tr>\n",
              "      <th>2</th>\n",
              "      <td>SINALOA</td>\n",
              "    </tr>\n",
              "    <tr>\n",
              "      <th>3</th>\n",
              "      <td>TABASCO</td>\n",
              "    </tr>\n",
              "    <tr>\n",
              "      <th>4</th>\n",
              "      <td>BAJA CALIFORNIA</td>\n",
              "    </tr>\n",
              "    <tr>\n",
              "      <th>5</th>\n",
              "      <td>TLAXCALA</td>\n",
              "    </tr>\n",
              "    <tr>\n",
              "      <th>6</th>\n",
              "      <td>COAHUILA DE ZARAGOZA</td>\n",
              "    </tr>\n",
              "    <tr>\n",
              "      <th>7</th>\n",
              "      <td>None</td>\n",
              "    </tr>\n",
              "    <tr>\n",
              "      <th>8</th>\n",
              "      <td>ESQ. SUR 125\"</td>\n",
              "    </tr>\n",
              "    <tr>\n",
              "      <th>9</th>\n",
              "      <td>CHIAPAS</td>\n",
              "    </tr>\n",
              "    <tr>\n",
              "      <th>10</th>\n",
              "      <td>COL. EDUARDO GUERRA</td>\n",
              "    </tr>\n",
              "    <tr>\n",
              "      <th>11</th>\n",
              "      <td>VERACRUZ DE IGNACIO DE LA LLAVE</td>\n",
              "    </tr>\n",
              "    <tr>\n",
              "      <th>12</th>\n",
              "      <td>SONORA</td>\n",
              "    </tr>\n",
              "    <tr>\n",
              "      <th>13</th>\n",
              "      <td>YUCATÁN</td>\n",
              "    </tr>\n",
              "    <tr>\n",
              "      <th>14</th>\n",
              "      <td>MICHOACÁN DE OCAMPO</td>\n",
              "    </tr>\n",
              "    <tr>\n",
              "      <th>15</th>\n",
              "      <td>DURANGO</td>\n",
              "    </tr>\n",
              "    <tr>\n",
              "      <th>16</th>\n",
              "      <td>GUERRERO</td>\n",
              "    </tr>\n",
              "    <tr>\n",
              "      <th>17</th>\n",
              "      <td>NAYARIT</td>\n",
              "    </tr>\n",
              "    <tr>\n",
              "      <th>18</th>\n",
              "      <td>CHIHUAHUA</td>\n",
              "    </tr>\n",
              "    <tr>\n",
              "      <th>19</th>\n",
              "      <td>DISTRITO FEDERAL</td>\n",
              "    </tr>\n",
              "    <tr>\n",
              "      <th>20</th>\n",
              "      <td>estado</td>\n",
              "    </tr>\n",
              "    <tr>\n",
              "      <th>21</th>\n",
              "      <td>HIDALGO</td>\n",
              "    </tr>\n",
              "    <tr>\n",
              "      <th>22</th>\n",
              "      <td>ZACATECAS</td>\n",
              "    </tr>\n",
              "    <tr>\n",
              "      <th>23</th>\n",
              "      <td>GUANAJUATO</td>\n",
              "    </tr>\n",
              "    <tr>\n",
              "      <th>24</th>\n",
              "      <td>SAN LUIS POTOSÍ</td>\n",
              "    </tr>\n",
              "    <tr>\n",
              "      <th>25</th>\n",
              "      <td>TAMAULIPAS</td>\n",
              "    </tr>\n",
              "    <tr>\n",
              "      <th>26</th>\n",
              "      <td>MORELOS</td>\n",
              "    </tr>\n",
              "    <tr>\n",
              "      <th>27</th>\n",
              "      <td>AGUASCALIENTES</td>\n",
              "    </tr>\n",
              "    <tr>\n",
              "      <th>28</th>\n",
              "      <td>OAXACA</td>\n",
              "    </tr>\n",
              "    <tr>\n",
              "      <th>29</th>\n",
              "      <td>PUEBLA</td>\n",
              "    </tr>\n",
              "    <tr>\n",
              "      <th>30</th>\n",
              "      <td>BAJA CALIFORNIA SUR</td>\n",
              "    </tr>\n",
              "    <tr>\n",
              "      <th>31</th>\n",
              "      <td>JALISCO</td>\n",
              "    </tr>\n",
              "    <tr>\n",
              "      <th>32</th>\n",
              "      <td>CAMPECHE</td>\n",
              "    </tr>\n",
              "    <tr>\n",
              "      <th>33</th>\n",
              "      <td>QUERÉTARO</td>\n",
              "    </tr>\n",
              "    <tr>\n",
              "      <th>34</th>\n",
              "      <td>COLIMA</td>\n",
              "    </tr>\n",
              "    <tr>\n",
              "      <th>35</th>\n",
              "      <td>MÉXICO</td>\n",
              "    </tr>\n",
              "  </tbody>\n",
              "</table>\n",
              "</div>"
            ],
            "text/plain": [
              "                             estado\n",
              "0                      QUINTANA ROO\n",
              "1                        NUEVO LEÓN\n",
              "2                           SINALOA\n",
              "3                           TABASCO\n",
              "4                   BAJA CALIFORNIA\n",
              "5                          TLAXCALA\n",
              "6              COAHUILA DE ZARAGOZA\n",
              "7                              None\n",
              "8                     ESQ. SUR 125\"\n",
              "9                           CHIAPAS\n",
              "10              COL. EDUARDO GUERRA\n",
              "11  VERACRUZ DE IGNACIO DE LA LLAVE\n",
              "12                           SONORA\n",
              "13                          YUCATÁN\n",
              "14              MICHOACÁN DE OCAMPO\n",
              "15                          DURANGO\n",
              "16                         GUERRERO\n",
              "17                          NAYARIT\n",
              "18                        CHIHUAHUA\n",
              "19                 DISTRITO FEDERAL\n",
              "20                           estado\n",
              "21                          HIDALGO\n",
              "22                        ZACATECAS\n",
              "23                       GUANAJUATO\n",
              "24                  SAN LUIS POTOSÍ\n",
              "25                       TAMAULIPAS\n",
              "26                          MORELOS\n",
              "27                   AGUASCALIENTES\n",
              "28                           OAXACA\n",
              "29                           PUEBLA\n",
              "30              BAJA CALIFORNIA SUR\n",
              "31                          JALISCO\n",
              "32                         CAMPECHE\n",
              "33                        QUERÉTARO\n",
              "34                           COLIMA\n",
              "35                           MÉXICO"
            ]
          },
          "execution_count": 21,
          "metadata": {},
          "output_type": "execute_result"
        }
      ],
      "source": [
        "df.select(\"estado\").distinct().toPandas()"
      ]
    },
    {
      "cell_type": "code",
      "execution_count": 65,
      "metadata": {},
      "outputs": [
        {
          "name": "stdout",
          "output_type": "stream",
          "text": [
            "+--------+------------+-----+---------+--------+------+-------------+---------------+----+---------------+---------+------+---------+-------+--------+\n",
            "|producto|presentacion|marca|categoria|catalogo|precio|fechaRegistro|cadenaComercial|giro|nombreComercial|direccion|estado|municipio|latitud|longitud|\n",
            "+--------+------------+-----+---------+--------+------+-------------+---------------+----+---------------+---------+------+---------+-------+--------+\n",
            "+--------+------------+-----+---------+--------+------+-------------+---------------+----+---------------+---------+------+---------+-------+--------+\n",
            "\n",
            "+--------+------------+-----+---------+--------+------+-------------+---------------+----+---------------+---------+------+---------+-------+--------+\n",
            "|producto|presentacion|marca|categoria|catalogo|precio|fechaRegistro|cadenaComercial|giro|nombreComercial|direccion|estado|municipio|latitud|longitud|\n",
            "+--------+------------+-----+---------+--------+------+-------------+---------------+----+---------------+---------+------+---------+-------+--------+\n",
            "+--------+------------+-----+---------+--------+------+-------------+---------------+----+---------------+---------+------+---------+-------+--------+\n",
            "\n",
            "+--------+------------+-----+---------+--------+------+-------------+---------------+----+---------------+---------+------+---------+-------+--------+\n",
            "|producto|presentacion|marca|categoria|catalogo|precio|fechaRegistro|cadenaComercial|giro|nombreComercial|direccion|estado|municipio|latitud|longitud|\n",
            "+--------+------------+-----+---------+--------+------+-------------+---------------+----+---------------+---------+------+---------+-------+--------+\n",
            "+--------+------------+-----+---------+--------+------+-------------+---------------+----+---------------+---------+------+---------+-------+--------+\n",
            "\n"
          ]
        }
      ],
      "source": [
        "#bad_states = ['None', ' ESQ. SUR 125\"', ' COL. EDUARDO GUERRA', \"estado\"]\n",
        "df.filter(col(\"estado\") == \"None\").show(3)\n",
        "df.filter(col(\"estado\") == ' ESQ. SUR 125\"').show(3)\n",
        "df.filter(col(\"estado\") == ' COL. EDUARDO GUERRA').show(3)\n",
        "df.filter(col(\"estado\") == \"estado\").show(3)\n"
      ]
    },
    {
      "cell_type": "code",
      "execution_count": null,
      "metadata": {},
      "outputs": [],
      "source": [
        "path = \"C:/Users/garci/Documents/Wizeline/all_data.csv\"\n",
        "df = spark.read.option(\"quote\", \"\\\"\").option(\"escape\", \"\\\"\").csv(path, header=True, inferSchema= True)"
      ]
    },
    {
      "cell_type": "code",
      "execution_count": null,
      "metadata": {},
      "outputs": [
        {
          "data": {
            "text/html": [
              "<div>\n",
              "<style scoped>\n",
              "    .dataframe tbody tr th:only-of-type {\n",
              "        vertical-align: middle;\n",
              "    }\n",
              "\n",
              "    .dataframe tbody tr th {\n",
              "        vertical-align: top;\n",
              "    }\n",
              "\n",
              "    .dataframe thead th {\n",
              "        text-align: right;\n",
              "    }\n",
              "</style>\n",
              "<table border=\"1\" class=\"dataframe\">\n",
              "  <thead>\n",
              "    <tr style=\"text-align: right;\">\n",
              "      <th></th>\n",
              "      <th>estado</th>\n",
              "    </tr>\n",
              "  </thead>\n",
              "  <tbody>\n",
              "    <tr>\n",
              "      <th>0</th>\n",
              "      <td>QUINTANA ROO</td>\n",
              "    </tr>\n",
              "    <tr>\n",
              "      <th>1</th>\n",
              "      <td>NUEVO LEÓN</td>\n",
              "    </tr>\n",
              "    <tr>\n",
              "      <th>2</th>\n",
              "      <td>SINALOA</td>\n",
              "    </tr>\n",
              "    <tr>\n",
              "      <th>3</th>\n",
              "      <td>TABASCO</td>\n",
              "    </tr>\n",
              "    <tr>\n",
              "      <th>4</th>\n",
              "      <td>BAJA CALIFORNIA</td>\n",
              "    </tr>\n",
              "    <tr>\n",
              "      <th>5</th>\n",
              "      <td>TLAXCALA</td>\n",
              "    </tr>\n",
              "    <tr>\n",
              "      <th>6</th>\n",
              "      <td>COAHUILA DE ZARAGOZA</td>\n",
              "    </tr>\n",
              "    <tr>\n",
              "      <th>7</th>\n",
              "      <td>None</td>\n",
              "    </tr>\n",
              "    <tr>\n",
              "      <th>8</th>\n",
              "      <td>CHIAPAS</td>\n",
              "    </tr>\n",
              "    <tr>\n",
              "      <th>9</th>\n",
              "      <td>VERACRUZ DE IGNACIO DE LA LLAVE</td>\n",
              "    </tr>\n",
              "    <tr>\n",
              "      <th>10</th>\n",
              "      <td>SONORA</td>\n",
              "    </tr>\n",
              "    <tr>\n",
              "      <th>11</th>\n",
              "      <td>YUCATÁN</td>\n",
              "    </tr>\n",
              "    <tr>\n",
              "      <th>12</th>\n",
              "      <td>MICHOACÁN DE OCAMPO</td>\n",
              "    </tr>\n",
              "    <tr>\n",
              "      <th>13</th>\n",
              "      <td>DURANGO</td>\n",
              "    </tr>\n",
              "    <tr>\n",
              "      <th>14</th>\n",
              "      <td>GUERRERO</td>\n",
              "    </tr>\n",
              "    <tr>\n",
              "      <th>15</th>\n",
              "      <td>NAYARIT</td>\n",
              "    </tr>\n",
              "    <tr>\n",
              "      <th>16</th>\n",
              "      <td>CHIHUAHUA</td>\n",
              "    </tr>\n",
              "    <tr>\n",
              "      <th>17</th>\n",
              "      <td>DISTRITO FEDERAL</td>\n",
              "    </tr>\n",
              "    <tr>\n",
              "      <th>18</th>\n",
              "      <td>estado</td>\n",
              "    </tr>\n",
              "    <tr>\n",
              "      <th>19</th>\n",
              "      <td>HIDALGO</td>\n",
              "    </tr>\n",
              "    <tr>\n",
              "      <th>20</th>\n",
              "      <td>ZACATECAS</td>\n",
              "    </tr>\n",
              "    <tr>\n",
              "      <th>21</th>\n",
              "      <td>GUANAJUATO</td>\n",
              "    </tr>\n",
              "    <tr>\n",
              "      <th>22</th>\n",
              "      <td>SAN LUIS POTOSÍ</td>\n",
              "    </tr>\n",
              "    <tr>\n",
              "      <th>23</th>\n",
              "      <td>TAMAULIPAS</td>\n",
              "    </tr>\n",
              "    <tr>\n",
              "      <th>24</th>\n",
              "      <td>MORELOS</td>\n",
              "    </tr>\n",
              "    <tr>\n",
              "      <th>25</th>\n",
              "      <td>AGUASCALIENTES</td>\n",
              "    </tr>\n",
              "    <tr>\n",
              "      <th>26</th>\n",
              "      <td>OAXACA</td>\n",
              "    </tr>\n",
              "    <tr>\n",
              "      <th>27</th>\n",
              "      <td>PUEBLA</td>\n",
              "    </tr>\n",
              "    <tr>\n",
              "      <th>28</th>\n",
              "      <td>BAJA CALIFORNIA SUR</td>\n",
              "    </tr>\n",
              "    <tr>\n",
              "      <th>29</th>\n",
              "      <td>JALISCO</td>\n",
              "    </tr>\n",
              "    <tr>\n",
              "      <th>30</th>\n",
              "      <td>CAMPECHE</td>\n",
              "    </tr>\n",
              "    <tr>\n",
              "      <th>31</th>\n",
              "      <td>QUERÉTARO</td>\n",
              "    </tr>\n",
              "    <tr>\n",
              "      <th>32</th>\n",
              "      <td>COLIMA</td>\n",
              "    </tr>\n",
              "    <tr>\n",
              "      <th>33</th>\n",
              "      <td>MÉXICO</td>\n",
              "    </tr>\n",
              "  </tbody>\n",
              "</table>\n",
              "</div>"
            ],
            "text/plain": [
              "                             estado\n",
              "0                      QUINTANA ROO\n",
              "1                        NUEVO LEÓN\n",
              "2                           SINALOA\n",
              "3                           TABASCO\n",
              "4                   BAJA CALIFORNIA\n",
              "5                          TLAXCALA\n",
              "6              COAHUILA DE ZARAGOZA\n",
              "7                              None\n",
              "8                           CHIAPAS\n",
              "9   VERACRUZ DE IGNACIO DE LA LLAVE\n",
              "10                           SONORA\n",
              "11                          YUCATÁN\n",
              "12              MICHOACÁN DE OCAMPO\n",
              "13                          DURANGO\n",
              "14                         GUERRERO\n",
              "15                          NAYARIT\n",
              "16                        CHIHUAHUA\n",
              "17                 DISTRITO FEDERAL\n",
              "18                           estado\n",
              "19                          HIDALGO\n",
              "20                        ZACATECAS\n",
              "21                       GUANAJUATO\n",
              "22                  SAN LUIS POTOSÍ\n",
              "23                       TAMAULIPAS\n",
              "24                          MORELOS\n",
              "25                   AGUASCALIENTES\n",
              "26                           OAXACA\n",
              "27                           PUEBLA\n",
              "28              BAJA CALIFORNIA SUR\n",
              "29                          JALISCO\n",
              "30                         CAMPECHE\n",
              "31                        QUERÉTARO\n",
              "32                           COLIMA\n",
              "33                           MÉXICO"
            ]
          },
          "execution_count": 49,
          "metadata": {},
          "output_type": "execute_result"
        }
      ],
      "source": [
        "df.select(\"estado\").distinct().toPandas()"
      ]
    },
    {
      "cell_type": "markdown",
      "metadata": {},
      "source": [
        "## 1. How many commercial chains are monitored, and therefore, included in this database?"
      ]
    },
    {
      "cell_type": "markdown",
      "metadata": {},
      "source": [
        "## 1. How many commercial chains are monitored, and therefore, included in this database?"
      ]
    },
    {
      "cell_type": "code",
      "execution_count": 23,
      "metadata": {},
      "outputs": [
        {
          "data": {
            "text/plain": [
              "Row(Number of commercial chains=705)"
            ]
          },
          "execution_count": 23,
          "metadata": {},
          "output_type": "execute_result"
        }
      ],
      "source": [
        "df.agg(countDistinct(\"cadenaComercial\").alias(\"Number of commercial chains\")).collect()[0]"
      ]
    },
    {
      "cell_type": "code",
      "execution_count": 29,
      "metadata": {},
      "outputs": [
        {
          "data": {
            "text/plain": [
              "Row(Number of commercial chains=704)"
            ]
          },
          "execution_count": 29,
          "metadata": {},
          "output_type": "execute_result"
        }
      ],
      "source": [
        "df = df.filter(col(\"estado\") != \"estado\")\n",
        "df.agg(countDistinct(\"cadenaComercial\").alias(\"Number of commercial chains\")).collect()[0]"
      ]
    },
    {
      "cell_type": "code",
      "execution_count": null,
      "metadata": {},
      "outputs": [],
      "source": [
        "\n",
        "df = df.filter(~col(\"estado\").isin(bad_states))"
      ]
    },
    {
      "cell_type": "markdown",
      "metadata": {
        "id": "yRU1XrGPPTRR"
      },
      "source": [
        "## 2. What are the top 10 monitored products by State?"
      ]
    },
    {
      "cell_type": "code",
      "execution_count": 43,
      "metadata": {},
      "outputs": [
        {
          "name": "stdout",
          "output_type": "stream",
          "text": [
            "+----------------------+\n",
            "|direccion             |\n",
            "+----------------------+\n",
            "|\"ORIENTE 100 \"\"\"\"A\"\"\"\"|\n",
            "|\"ORIENTE 100 \"\"\"\"A\"\"\"\"|\n",
            "|\"ORIENTE 100 \"\"\"\"A\"\"\"\"|\n",
            "+----------------------+\n",
            "only showing top 3 rows\n",
            "\n"
          ]
        }
      ],
      "source": [
        "df.filter(col(\"estado\") == ' ESQ. SUR 125\"').select(\"direccion\").show(3, truncate = False)"
      ]
    },
    {
      "cell_type": "code",
      "execution_count": 46,
      "metadata": {},
      "outputs": [
        {
          "name": "stdout",
          "output_type": "stream",
          "text": [
            "+------------------+------------+-----+---------+--------+------+--------------------+--------------------+--------------------+---------------+--------------------+--------------+----------------+--------------------+---------+\n",
            "|          producto|presentacion|marca|categoria|catalogo|precio|       fechaRegistro|     cadenaComercial|                giro|nombreComercial|           direccion|        estado|       municipio|             latitud| longitud|\n",
            "+------------------+------------+-----+---------+--------+------+--------------------+--------------------+--------------------+---------------+--------------------+--------------+----------------+--------------------+---------+\n",
            "|PAN BLANCO BOLILLO|       PIEZA|  S/M|      PAN| BASICOS|   1.5|2012-04-10 00:00:...|PANADERIAS TRADIC...|PANADERIA Y PASTE...|  PAN BARCELONA|\"ORIENTE 100 \"\"\"\"...| ESQ. SUR 125\"|DISTRITO FEDERAL|IZTACALCO        ...|19.395734|\n",
            "|PAN BLANCO BOLILLO|       PIEZA|  S/M|      PAN| BASICOS|   1.5|2012-07-10 00:00:...|PANADERIAS TRADIC...|PANADERIA Y PASTE...|  PAN BARCELONA|\"ORIENTE 100 \"\"\"\"...| ESQ. SUR 125\"|DISTRITO FEDERAL|IZTACALCO        ...|19.395734|\n",
            "|PAN BLANCO BOLILLO|       PIEZA|  S/M|      PAN| BASICOS|   1.5|2012-09-11 00:00:...|PANADERIAS TRADIC...|PANADERIA Y PASTE...|  PAN BARCELONA|\"ORIENTE 100 \"\"\"\"...| ESQ. SUR 125\"|DISTRITO FEDERAL|IZTACALCO        ...|19.395734|\n",
            "+------------------+------------+-----+---------+--------+------+--------------------+--------------------+--------------------+---------------+--------------------+--------------+----------------+--------------------+---------+\n",
            "only showing top 3 rows\n",
            "\n"
          ]
        }
      ],
      "source": [
        "df.filter(col(\"estado\") == ' ESQ. SUR 125\"').show(3)"
      ]
    },
    {
      "cell_type": "code",
      "execution_count": 47,
      "metadata": {},
      "outputs": [
        {
          "name": "stdout",
          "output_type": "stream",
          "text": [
            "+----------------+-------------+------+--------------------+--------+------+--------------------+---------------+--------------------+--------------------+--------------------+--------------------+-----------+--------------------+--------+\n",
            "|        producto| presentacion| marca|           categoria|catalogo|precio|       fechaRegistro|cadenaComercial|                giro|     nombreComercial|           direccion|              estado|  municipio|             latitud|longitud|\n",
            "+----------------+-------------+------+--------------------+--------+------+--------------------+---------------+--------------------+--------------------+--------------------+--------------------+-----------+--------------------+--------+\n",
            "|  HARINA DE MAIZ|PAQUETE 1 KG.|MASECA|TORTILLAS Y DERIV...| BASICOS|  10.9|2016-04-11 00:00:...| BODEGA AURRERA|TIENDA DE AUTOSER...|BODEGA AURRERA SU...|\"CALZ. LAZARO CAR...| COL. EDUARDO GUERRA| CP. 27280\"|COAHUILA DE ZARAGOZA| TORREÓN|\n",
            "|  HARINA DE MAIZ|PAQUETE 1 KG.| MINSA|TORTILLAS Y DERIV...|MERCADOS|  10.0|2016-04-11 00:00:...| BODEGA AURRERA|TIENDA DE AUTOSER...|BODEGA AURRERA SU...|\"CALZ. LAZARO CAR...| COL. EDUARDO GUERRA| CP. 27280\"|COAHUILA DE ZARAGOZA| TORREÓN|\n",
            "|TORTILLA DE MAIZ| 1 KG. GRANEL|   S/M|TORTILLAS Y DERIV...| BASICOS|   9.5|2016-04-11 00:00:...| BODEGA AURRERA|TIENDA DE AUTOSER...|BODEGA AURRERA SU...|\"CALZ. LAZARO CAR...| COL. EDUARDO GUERRA| CP. 27280\"|COAHUILA DE ZARAGOZA| TORREÓN|\n",
            "+----------------+-------------+------+--------------------+--------+------+--------------------+---------------+--------------------+--------------------+--------------------+--------------------+-----------+--------------------+--------+\n",
            "only showing top 3 rows\n",
            "\n"
          ]
        }
      ],
      "source": [
        "df.filter(col(\"estado\") == ' COL. EDUARDO GUERRA').show(3)"
      ]
    },
    {
      "cell_type": "code",
      "execution_count": 6,
      "metadata": {},
      "outputs": [],
      "source": [
        "prod_counts = df.groupby(\"estado\",\"producto\").count()\n",
        "\n",
        "window = (Window\n",
        "        .partitionBy(prod_counts[\"estado\"])\n",
        "        .orderBy(prod_counts[\"count\"].desc()))\n",
        "\n",
        "res = prod_counts.select(col(\"*\"), rank().over(window).alias(\"rank\")).filter(col(\"rank\") <= 10).orderBy(col(\"estado\"), col(\"count\").desc())"
      ]
    },
    {
      "cell_type": "code",
      "execution_count": 7,
      "metadata": {},
      "outputs": [
        {
          "name": "stdout",
          "output_type": "stream",
          "text": [
            "+---------------+--------------------+-----+----+\n",
            "|         estado|            producto|count|rank|\n",
            "+---------------+--------------------+-----+----+\n",
            "| AGUASCALIENTES|                 FUD|12005|   1|\n",
            "| AGUASCALIENTES|   DETERGENTE P/ROPA|10188|   2|\n",
            "| AGUASCALIENTES|LECHE ULTRAPASTEU...| 9824|   3|\n",
            "| AGUASCALIENTES|             SHAMPOO| 9654|   4|\n",
            "| AGUASCALIENTES|            REFRESCO| 9481|   5|\n",
            "| AGUASCALIENTES|         DESODORANTE| 8859|   6|\n",
            "| AGUASCALIENTES|    JABON DE TOCADOR| 8517|   7|\n",
            "| AGUASCALIENTES|      CHILES EN LATA| 7946|   8|\n",
            "| AGUASCALIENTES|             YOGHURT| 7401|   9|\n",
            "| AGUASCALIENTES|            MAYONESA| 7173|  10|\n",
            "|BAJA CALIFORNIA|            REFRESCO|37243|   1|\n",
            "|BAJA CALIFORNIA|   DETERGENTE P/ROPA|23395|   2|\n",
            "|BAJA CALIFORNIA|                 FUD|19967|   3|\n",
            "|BAJA CALIFORNIA|             SHAMPOO|19123|   4|\n",
            "|BAJA CALIFORNIA|    JABON DE TOCADOR|18348|   5|\n",
            "|BAJA CALIFORNIA|      CHILES EN LATA|16676|   6|\n",
            "|BAJA CALIFORNIA|            GALLETAS|15873|   7|\n",
            "|BAJA CALIFORNIA|           PANTALLAS|15703|   8|\n",
            "|BAJA CALIFORNIA|            CEREALES|15398|   9|\n",
            "|BAJA CALIFORNIA|         DESODORANTE|14748|  10|\n",
            "+---------------+--------------------+-----+----+\n",
            "only showing top 20 rows\n",
            "\n"
          ]
        }
      ],
      "source": [
        "res.show()"
      ]
    },
    {
      "cell_type": "markdown",
      "metadata": {
        "id": "XyK82dvvSb8F"
      },
      "source": [
        "## 3. Which is the commercial chain with the highest number of monitored products?"
      ]
    },
    {
      "cell_type": "markdown",
      "metadata": {
        "id": "HIhwwYrOU4EF"
      },
      "source": [
        "## 4. Use the data to find an interesting fact."
      ]
    },
    {
      "cell_type": "markdown",
      "metadata": {
        "id": "fSsGnWfhcWnk"
      },
      "source": [
        "#### Repeated municipio names\n",
        "At first I was trying to analyze the distribution of expensive products in cities when I found that there are repeated municipio names in some states, it can be seen that \"ZACATECAS\" appear twice, there is probably some extra space in the data entry.  \n",
        "Fixing this error would imply going state by state to find repeated names and fixing them manually."
      ]
    },
    {
      "cell_type": "markdown",
      "metadata": {
        "id": "_Z-fRo8gdD1G"
      },
      "source": [
        "## 5. What are the lessons learned from this exercise?"
      ]
    },
    {
      "cell_type": "markdown",
      "metadata": {
        "id": "ZduHt_THdJuI"
      },
      "source": [
        "Must ensure the data quality of the database before performing analysis. Failing to do this might invalidate an analysis and we might not catch this error before its too late."
      ]
    },
    {
      "cell_type": "markdown",
      "metadata": {
        "id": "16NT0QZgdJkg"
      },
      "source": [
        "## 6. Can you identify other ways to approach this problem? Explain."
      ]
    },
    {
      "cell_type": "markdown",
      "metadata": {
        "id": "CSu8MZ3DdJWA"
      },
      "source": [
        " If the file would be larger it would be impossible to run this program, I suspect that many are not able to load the complete file, to solve this we would need to process it in a distributed manner.\n",
        " Downloading the file to databricks and then running the analysis using PySpark APIs would allows to handle the whole file.\n",
        "\n",
        "We can even use the [Koalas](https://koalas.readthedocs.io/en/latest/) library to reuse the pandas code on spark although it would run slower than using only Spark APIs.\n",
        "\n",
        "\n"
      ]
    }
  ],
  "metadata": {
    "colab": {
      "collapsed_sections": [],
      "name": "solution_OscarGarcia.ipynb",
      "provenance": []
    },
    "interpreter": {
      "hash": "4daa9c1c7481025b693f69f2269f20202023abe6f74fa12a2574814583d59e0e"
    },
    "kernelspec": {
      "display_name": "Python 3.9.7 64-bit",
      "name": "python3"
    },
    "language_info": {
      "codemirror_mode": {
        "name": "ipython",
        "version": 3
      },
      "file_extension": ".py",
      "mimetype": "text/x-python",
      "name": "python",
      "nbconvert_exporter": "python",
      "pygments_lexer": "ipython3",
      "version": "3.9.7"
    }
  },
  "nbformat": 4,
  "nbformat_minor": 2
}
