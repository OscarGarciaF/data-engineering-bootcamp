{
  "nbformat": 4,
  "nbformat_minor": 0,
  "metadata": {
    "colab": {
      "name": "solution_OscarGarcia.ipynb",
      "provenance": [],
      "collapsed_sections": []
    },
    "kernelspec": {
      "name": "python3",
      "display_name": "Python 3"
    },
    "language_info": {
      "name": "python"
    }
  },
  "cells": [
    {
      "cell_type": "code",
      "metadata": {
        "id": "oatRZYdeAEcL"
      },
      "source": [
        "import pandas as pd\n",
        "path = \"/content/sample.csv\"\n",
        "df=pd.read_csv(path)"
      ],
      "execution_count": 1,
      "outputs": []
    },
    {
      "cell_type": "code",
      "metadata": {
        "colab": {
          "base_uri": "https://localhost:8080/",
          "height": 293
        },
        "id": "dr-OQoAkASJD",
        "outputId": "47f63e68-da94-4308-d861-6950b554230d"
      },
      "source": [
        "df.head()"
      ],
      "execution_count": 2,
      "outputs": [
        {
          "output_type": "execute_result",
          "data": {
            "text/html": [
              "<div>\n",
              "<style scoped>\n",
              "    .dataframe tbody tr th:only-of-type {\n",
              "        vertical-align: middle;\n",
              "    }\n",
              "\n",
              "    .dataframe tbody tr th {\n",
              "        vertical-align: top;\n",
              "    }\n",
              "\n",
              "    .dataframe thead th {\n",
              "        text-align: right;\n",
              "    }\n",
              "</style>\n",
              "<table border=\"1\" class=\"dataframe\">\n",
              "  <thead>\n",
              "    <tr style=\"text-align: right;\">\n",
              "      <th></th>\n",
              "      <th>producto</th>\n",
              "      <th>presentacion</th>\n",
              "      <th>marca</th>\n",
              "      <th>categoria</th>\n",
              "      <th>catalogo</th>\n",
              "      <th>precio</th>\n",
              "      <th>fechaRegistro</th>\n",
              "      <th>cadenaComercial</th>\n",
              "      <th>giro</th>\n",
              "      <th>nombreComercial</th>\n",
              "      <th>direccion</th>\n",
              "      <th>estado</th>\n",
              "      <th>municipio</th>\n",
              "      <th>latitud</th>\n",
              "      <th>longitud</th>\n",
              "    </tr>\n",
              "  </thead>\n",
              "  <tbody>\n",
              "    <tr>\n",
              "      <th>0</th>\n",
              "      <td>CUADERNO FORMA ITALIANA</td>\n",
              "      <td>96 HOJAS PASTA DURA. CUADRICULA CHICA</td>\n",
              "      <td>ESTRELLA</td>\n",
              "      <td>MATERIAL ESCOLAR</td>\n",
              "      <td>UTILES ESCOLARES</td>\n",
              "      <td>25.9</td>\n",
              "      <td>2011-05-18 00:00:00.000</td>\n",
              "      <td>ABASTECEDORA LUMEN</td>\n",
              "      <td>PAPELERIAS</td>\n",
              "      <td>ABASTECEDORA LUMEN SUCURSAL VILLA COAPA</td>\n",
              "      <td>CANNES No. 6 ESQ. CANAL DE MIRAMONTES</td>\n",
              "      <td>DISTRITO FEDERAL</td>\n",
              "      <td>TLALPAN</td>\n",
              "      <td>19.29699</td>\n",
              "      <td>-99.125417</td>\n",
              "    </tr>\n",
              "    <tr>\n",
              "      <th>1</th>\n",
              "      <td>CRAYONES</td>\n",
              "      <td>CAJA 12 CERAS. JUMBO. C.B. 201423</td>\n",
              "      <td>CRAYOLA</td>\n",
              "      <td>MATERIAL ESCOLAR</td>\n",
              "      <td>UTILES ESCOLARES</td>\n",
              "      <td>27.5</td>\n",
              "      <td>2011-05-18 00:00:00.000</td>\n",
              "      <td>ABASTECEDORA LUMEN</td>\n",
              "      <td>PAPELERIAS</td>\n",
              "      <td>ABASTECEDORA LUMEN SUCURSAL VILLA COAPA</td>\n",
              "      <td>CANNES No. 6 ESQ. CANAL DE MIRAMONTES</td>\n",
              "      <td>DISTRITO FEDERAL</td>\n",
              "      <td>TLALPAN</td>\n",
              "      <td>19.29699</td>\n",
              "      <td>-99.125417</td>\n",
              "    </tr>\n",
              "    <tr>\n",
              "      <th>2</th>\n",
              "      <td>CRAYONES</td>\n",
              "      <td>CAJA 12 CERAS. TAMANO REGULAR C.B. 201034</td>\n",
              "      <td>CRAYOLA</td>\n",
              "      <td>MATERIAL ESCOLAR</td>\n",
              "      <td>UTILES ESCOLARES</td>\n",
              "      <td>13.9</td>\n",
              "      <td>2011-05-18 00:00:00.000</td>\n",
              "      <td>ABASTECEDORA LUMEN</td>\n",
              "      <td>PAPELERIAS</td>\n",
              "      <td>ABASTECEDORA LUMEN SUCURSAL VILLA COAPA</td>\n",
              "      <td>CANNES No. 6 ESQ. CANAL DE MIRAMONTES</td>\n",
              "      <td>DISTRITO FEDERAL</td>\n",
              "      <td>TLALPAN</td>\n",
              "      <td>19.29699</td>\n",
              "      <td>-99.125417</td>\n",
              "    </tr>\n",
              "    <tr>\n",
              "      <th>3</th>\n",
              "      <td>COLORES DE MADERA</td>\n",
              "      <td>CAJA 12 PIEZAS LARGO. TRIANGULAR. C.B. 640646</td>\n",
              "      <td>PINCELIN</td>\n",
              "      <td>MATERIAL ESCOLAR</td>\n",
              "      <td>UTILES ESCOLARES</td>\n",
              "      <td>46.9</td>\n",
              "      <td>2011-05-18 00:00:00.000</td>\n",
              "      <td>ABASTECEDORA LUMEN</td>\n",
              "      <td>PAPELERIAS</td>\n",
              "      <td>ABASTECEDORA LUMEN SUCURSAL VILLA COAPA</td>\n",
              "      <td>CANNES No. 6 ESQ. CANAL DE MIRAMONTES</td>\n",
              "      <td>DISTRITO FEDERAL</td>\n",
              "      <td>TLALPAN</td>\n",
              "      <td>19.29699</td>\n",
              "      <td>-99.125417</td>\n",
              "    </tr>\n",
              "    <tr>\n",
              "      <th>4</th>\n",
              "      <td>COLOR LARGO</td>\n",
              "      <td>CAJA 36 PIEZAS. CON SACAPUNTAS. 68-4036</td>\n",
              "      <td>CRAYOLA</td>\n",
              "      <td>MATERIAL ESCOLAR</td>\n",
              "      <td>UTILES ESCOLARES</td>\n",
              "      <td>115.0</td>\n",
              "      <td>2011-05-18 00:00:00.000</td>\n",
              "      <td>ABASTECEDORA LUMEN</td>\n",
              "      <td>PAPELERIAS</td>\n",
              "      <td>ABASTECEDORA LUMEN SUCURSAL VILLA COAPA</td>\n",
              "      <td>CANNES No. 6 ESQ. CANAL DE MIRAMONTES</td>\n",
              "      <td>DISTRITO FEDERAL</td>\n",
              "      <td>TLALPAN</td>\n",
              "      <td>19.29699</td>\n",
              "      <td>-99.125417</td>\n",
              "    </tr>\n",
              "  </tbody>\n",
              "</table>\n",
              "</div>"
            ],
            "text/plain": [
              "                  producto  ...   longitud\n",
              "0  CUADERNO FORMA ITALIANA  ... -99.125417\n",
              "1                 CRAYONES  ... -99.125417\n",
              "2                 CRAYONES  ... -99.125417\n",
              "3        COLORES DE MADERA  ... -99.125417\n",
              "4              COLOR LARGO  ... -99.125417\n",
              "\n",
              "[5 rows x 15 columns]"
            ]
          },
          "metadata": {},
          "execution_count": 2
        }
      ]
    },
    {
      "cell_type": "markdown",
      "metadata": {
        "id": "4J2OmqXgO2Db"
      },
      "source": [
        "##1. How Many commercial chains are monitored, and therefore, included in this database?"
      ]
    },
    {
      "cell_type": "code",
      "metadata": {
        "colab": {
          "base_uri": "https://localhost:8080/"
        },
        "id": "5oLBJdB-HZgn",
        "outputId": "422164f6-5aaf-4b12-f4a3-2d619a3f7428"
      },
      "source": [
        "df.cadenaComercial.value_counts(dropna = False)\n",
        "#No missing values"
      ],
      "execution_count": 3,
      "outputs": [
        {
          "output_type": "execute_result",
          "data": {
            "text/plain": [
              "COMERCIAL MEXICANA    1508\n",
              "WAL-MART               287\n",
              "I.S.S.S.T.E.           195\n",
              "ABASTECEDORA LUMEN       9\n",
              "Name: cadenaComercial, dtype: int64"
            ]
          },
          "metadata": {},
          "execution_count": 3
        }
      ]
    },
    {
      "cell_type": "markdown",
      "metadata": {
        "id": "yRU1XrGPPTRR"
      },
      "source": [
        "##2. What are the top 10 monitored products by State?"
      ]
    },
    {
      "cell_type": "code",
      "metadata": {
        "colab": {
          "base_uri": "https://localhost:8080/"
        },
        "id": "jSbuueGoPvvE",
        "outputId": "d1c45fe3-4987-416b-da60-d7897006e3b2"
      },
      "source": [
        "df.groupby(\"estado\").apply(lambda x: x.producto.value_counts(dropna = False).nlargest(10))"
      ],
      "execution_count": 4,
      "outputs": [
        {
          "output_type": "execute_result",
          "data": {
            "text/plain": [
              "estado                                   \n",
              "DISTRITO FEDERAL  DETERGENTE P/ROPA          25\n",
              "                  LECHE ULTRAPASTEURIZADA    23\n",
              "                  REFRESCO                   22\n",
              "                  CHILES EN LATA             21\n",
              "                  MAYONESA                   20\n",
              "                  SHAMPOO                    18\n",
              "                  TELEVISORES                17\n",
              "                  JABON DE TOCADOR           16\n",
              "                  GALLETAS DULCES            16\n",
              "                  MARGARINA                  14\n",
              "MÉXICO            REFRESCO                   26\n",
              "                  DETERGENTE P/ROPA          24\n",
              "                  SHAMPOO                    19\n",
              "                  CHILES EN LATA             18\n",
              "                  TOALLA FEMENINA            17\n",
              "                  MAYONESA                   17\n",
              "                  LECHE ULTRAPASTEURIZADA    17\n",
              "                  YOGHURT                    15\n",
              "                  TELEVISORES                15\n",
              "                  DESODORANTE                15\n",
              "Name: producto, dtype: int64"
            ]
          },
          "metadata": {},
          "execution_count": 4
        }
      ]
    },
    {
      "cell_type": "markdown",
      "metadata": {
        "id": "XyK82dvvSb8F"
      },
      "source": [
        "##3. Which is the commercial chain with the highest number of monitored products?"
      ]
    },
    {
      "cell_type": "code",
      "metadata": {
        "colab": {
          "base_uri": "https://localhost:8080/"
        },
        "id": "SAlyYc7wSY1B",
        "outputId": "4aa5b402-58b7-42d3-a4f0-7f81046c33b5"
      },
      "source": [
        "df.groupby(\"cadenaComercial\").producto.nunique().sort_values(ascending=False).head(1)"
      ],
      "execution_count": 5,
      "outputs": [
        {
          "output_type": "execute_result",
          "data": {
            "text/plain": [
              "cadenaComercial\n",
              "COMERCIAL MEXICANA    310\n",
              "Name: producto, dtype: int64"
            ]
          },
          "metadata": {},
          "execution_count": 5
        }
      ]
    },
    {
      "cell_type": "markdown",
      "metadata": {
        "id": "HIhwwYrOU4EF"
      },
      "source": [
        "##4. Use the data to find an interesting fact."
      ]
    },
    {
      "cell_type": "code",
      "metadata": {
        "colab": {
          "base_uri": "https://localhost:8080/"
        },
        "id": "-nR0zmGwTVPr",
        "outputId": "ced8050d-62da-4aae-a443-21fea71603f9"
      },
      "source": [
        "expensive = df.precio.quantile(0.95)\n",
        "e_df = df[df.precio > expensive] \n",
        "expensive"
      ],
      "execution_count": 6,
      "outputs": [
        {
          "output_type": "execute_result",
          "data": {
            "text/plain": [
              "1224.9999999999845"
            ]
          },
          "metadata": {},
          "execution_count": 6
        }
      ]
    },
    {
      "cell_type": "code",
      "metadata": {
        "colab": {
          "base_uri": "https://localhost:8080/"
        },
        "id": "k9teiCbtacF4",
        "outputId": "10daaca9-93c0-4882-9770-6a239f04af7a"
      },
      "source": [
        "#All products\n",
        "df.groupby(\"estado\").municipio.value_counts(normalize = True)"
      ],
      "execution_count": 7,
      "outputs": [
        {
          "output_type": "execute_result",
          "data": {
            "text/plain": [
              "estado            municipio                               \n",
              "DISTRITO FEDERAL  BENITO JUAREZ                               0.783439\n",
              "                  IZTACALCO                                   0.207006\n",
              "                  TLALPAN                                     0.009554\n",
              "MÉXICO            ATIZAPAN                                    0.728477\n",
              "                  NAUCALPAN                                   0.271523\n",
              "Name: municipio, dtype: float64"
            ]
          },
          "metadata": {},
          "execution_count": 7
        }
      ]
    },
    {
      "cell_type": "code",
      "metadata": {
        "colab": {
          "base_uri": "https://localhost:8080/"
        },
        "id": "BB4IIjMfb6b9",
        "outputId": "5c4b02ff-5e23-4744-d542-64e8438aa788"
      },
      "source": [
        "#Only expensive products\n",
        "e_df.groupby(\"estado\").municipio.value_counts(normalize = True)"
      ],
      "execution_count": 8,
      "outputs": [
        {
          "output_type": "execute_result",
          "data": {
            "text/plain": [
              "estado            municipio                               \n",
              "DISTRITO FEDERAL  BENITO JUAREZ                               1.000000\n",
              "MÉXICO            ATIZAPAN                                    0.824561\n",
              "                  NAUCALPAN                                   0.175439\n",
              "Name: municipio, dtype: float64"
            ]
          },
          "metadata": {},
          "execution_count": 8
        }
      ]
    },
    {
      "cell_type": "markdown",
      "metadata": {
        "id": "fSsGnWfhcWnk"
      },
      "source": [
        "#### Where are expensive products located?\n",
        "#### Mexico expensive products are balanced between cities. Distrito Federal expensive products are found only in Benito Juarez."
      ]
    },
    {
      "cell_type": "markdown",
      "metadata": {
        "id": "_Z-fRo8gdD1G"
      },
      "source": [
        "## 5. What are the lessons learned from this exercise?"
      ]
    },
    {
      "cell_type": "markdown",
      "metadata": {
        "id": "ZduHt_THdJuI"
      },
      "source": [
        "####Not many, I was already familiar with Pandas."
      ]
    },
    {
      "cell_type": "markdown",
      "metadata": {
        "id": "16NT0QZgdJkg"
      },
      "source": [
        "## 6. Can you identify other ways to approach this problem? Explain."
      ]
    },
    {
      "cell_type": "markdown",
      "metadata": {
        "id": "CSu8MZ3DdJWA"
      },
      "source": [
        "#### I do not have enough RAM to load the complete file(20 GB), to make a complete analysis we would need to make process it in a distributed manner. Downloading the file to databricks and then running the analysis using PySpark APIs would allows to handle the whole file.\n",
        "\n",
        "#### We can even use the [Koalas](https://koalas.readthedocs.io/en/latest/) library to reuse the pandas code on spark altough it would run slower than using only Spark APIs.\n",
        "\n",
        "\n"
      ]
    }
  ]
}