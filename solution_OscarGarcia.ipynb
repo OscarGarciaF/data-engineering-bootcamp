{
  "nbformat": 4,
  "nbformat_minor": 2,
  "metadata": {
    "colab": {
      "name": "solution_OscarGarcia.ipynb",
      "provenance": [],
      "collapsed_sections": []
    },
    "kernelspec": {
      "name": "python3",
      "display_name": "Python 3.9.7 64-bit"
    },
    "language_info": {
      "name": "python",
      "version": "3.9.7",
      "mimetype": "text/x-python",
      "codemirror_mode": {
        "name": "ipython",
        "version": 3
      },
      "pygments_lexer": "ipython3",
      "nbconvert_exporter": "python",
      "file_extension": ".py"
    },
    "interpreter": {
      "hash": "4daa9c1c7481025b693f69f2269f20202023abe6f74fa12a2574814583d59e0e"
    }
  },
  "cells": [
    {
      "cell_type": "code",
      "execution_count": 1,
      "source": [
        "import pandas as pd\r\n",
        "#path = \"C:/Users/garci/Documents/Wizeline/sample.csv\"\r\n",
        "path = \"C:/Users/garci/Documents/Wizeline/all_data.csv\"\r\n",
        "df=pd.read_csv(path)"
      ],
      "outputs": [
        {
          "output_type": "stream",
          "name": "stderr",
          "text": [
            "C:\\Users\\garci\\AppData\\Local\\Programs\\Python\\Python39\\lib\\site-packages\\IPython\\core\\interactiveshell.py:3444: DtypeWarning: Columns (5,13,14) have mixed types.Specify dtype option on import or set low_memory=False.\n",
            "  exec(code_obj, self.user_global_ns, self.user_ns)\n"
          ]
        }
      ],
      "metadata": {
        "id": "oatRZYdeAEcL"
      }
    },
    {
      "cell_type": "code",
      "execution_count": 19,
      "source": [
        "df.head()"
      ],
      "outputs": [
        {
          "output_type": "execute_result",
          "data": {
            "text/html": [
              "<div>\n",
              "<style scoped>\n",
              "    .dataframe tbody tr th:only-of-type {\n",
              "        vertical-align: middle;\n",
              "    }\n",
              "\n",
              "    .dataframe tbody tr th {\n",
              "        vertical-align: top;\n",
              "    }\n",
              "\n",
              "    .dataframe thead th {\n",
              "        text-align: right;\n",
              "    }\n",
              "</style>\n",
              "<table border=\"1\" class=\"dataframe\">\n",
              "  <thead>\n",
              "    <tr style=\"text-align: right;\">\n",
              "      <th></th>\n",
              "      <th>producto</th>\n",
              "      <th>presentacion</th>\n",
              "      <th>marca</th>\n",
              "      <th>categoria</th>\n",
              "      <th>catalogo</th>\n",
              "      <th>precio</th>\n",
              "      <th>fechaRegistro</th>\n",
              "      <th>cadenaComercial</th>\n",
              "      <th>giro</th>\n",
              "      <th>nombreComercial</th>\n",
              "      <th>direccion</th>\n",
              "      <th>estado</th>\n",
              "      <th>municipio</th>\n",
              "      <th>latitud</th>\n",
              "      <th>longitud</th>\n",
              "    </tr>\n",
              "  </thead>\n",
              "  <tbody>\n",
              "    <tr>\n",
              "      <th>0</th>\n",
              "      <td>CUADERNO FORMA ITALIANA</td>\n",
              "      <td>96 HOJAS PASTA DURA. CUADRICULA CHICA</td>\n",
              "      <td>ESTRELLA</td>\n",
              "      <td>MATERIAL ESCOLAR</td>\n",
              "      <td>UTILES ESCOLARES</td>\n",
              "      <td>25.9</td>\n",
              "      <td>2011-05-18 00:00:00.000</td>\n",
              "      <td>ABASTECEDORA LUMEN</td>\n",
              "      <td>PAPELERIAS</td>\n",
              "      <td>ABASTECEDORA LUMEN SUCURSAL VILLA COAPA</td>\n",
              "      <td>CANNES No. 6 ESQ. CANAL DE MIRAMONTES</td>\n",
              "      <td>DISTRITO FEDERAL</td>\n",
              "      <td>TLALPAN</td>\n",
              "      <td>19.29699</td>\n",
              "      <td>-99.125417</td>\n",
              "    </tr>\n",
              "    <tr>\n",
              "      <th>1</th>\n",
              "      <td>CRAYONES</td>\n",
              "      <td>CAJA 12 CERAS. JUMBO. C.B. 201423</td>\n",
              "      <td>CRAYOLA</td>\n",
              "      <td>MATERIAL ESCOLAR</td>\n",
              "      <td>UTILES ESCOLARES</td>\n",
              "      <td>27.5</td>\n",
              "      <td>2011-05-18 00:00:00.000</td>\n",
              "      <td>ABASTECEDORA LUMEN</td>\n",
              "      <td>PAPELERIAS</td>\n",
              "      <td>ABASTECEDORA LUMEN SUCURSAL VILLA COAPA</td>\n",
              "      <td>CANNES No. 6 ESQ. CANAL DE MIRAMONTES</td>\n",
              "      <td>DISTRITO FEDERAL</td>\n",
              "      <td>TLALPAN</td>\n",
              "      <td>19.29699</td>\n",
              "      <td>-99.125417</td>\n",
              "    </tr>\n",
              "    <tr>\n",
              "      <th>2</th>\n",
              "      <td>CRAYONES</td>\n",
              "      <td>CAJA 12 CERAS. TAMANO REGULAR C.B. 201034</td>\n",
              "      <td>CRAYOLA</td>\n",
              "      <td>MATERIAL ESCOLAR</td>\n",
              "      <td>UTILES ESCOLARES</td>\n",
              "      <td>13.9</td>\n",
              "      <td>2011-05-18 00:00:00.000</td>\n",
              "      <td>ABASTECEDORA LUMEN</td>\n",
              "      <td>PAPELERIAS</td>\n",
              "      <td>ABASTECEDORA LUMEN SUCURSAL VILLA COAPA</td>\n",
              "      <td>CANNES No. 6 ESQ. CANAL DE MIRAMONTES</td>\n",
              "      <td>DISTRITO FEDERAL</td>\n",
              "      <td>TLALPAN</td>\n",
              "      <td>19.29699</td>\n",
              "      <td>-99.125417</td>\n",
              "    </tr>\n",
              "    <tr>\n",
              "      <th>3</th>\n",
              "      <td>COLORES DE MADERA</td>\n",
              "      <td>CAJA 12 PIEZAS LARGO. TRIANGULAR. C.B. 640646</td>\n",
              "      <td>PINCELIN</td>\n",
              "      <td>MATERIAL ESCOLAR</td>\n",
              "      <td>UTILES ESCOLARES</td>\n",
              "      <td>46.9</td>\n",
              "      <td>2011-05-18 00:00:00.000</td>\n",
              "      <td>ABASTECEDORA LUMEN</td>\n",
              "      <td>PAPELERIAS</td>\n",
              "      <td>ABASTECEDORA LUMEN SUCURSAL VILLA COAPA</td>\n",
              "      <td>CANNES No. 6 ESQ. CANAL DE MIRAMONTES</td>\n",
              "      <td>DISTRITO FEDERAL</td>\n",
              "      <td>TLALPAN</td>\n",
              "      <td>19.29699</td>\n",
              "      <td>-99.125417</td>\n",
              "    </tr>\n",
              "    <tr>\n",
              "      <th>4</th>\n",
              "      <td>COLOR LARGO</td>\n",
              "      <td>CAJA 36 PIEZAS. CON SACAPUNTAS. 68-4036</td>\n",
              "      <td>CRAYOLA</td>\n",
              "      <td>MATERIAL ESCOLAR</td>\n",
              "      <td>UTILES ESCOLARES</td>\n",
              "      <td>115.0</td>\n",
              "      <td>2011-05-18 00:00:00.000</td>\n",
              "      <td>ABASTECEDORA LUMEN</td>\n",
              "      <td>PAPELERIAS</td>\n",
              "      <td>ABASTECEDORA LUMEN SUCURSAL VILLA COAPA</td>\n",
              "      <td>CANNES No. 6 ESQ. CANAL DE MIRAMONTES</td>\n",
              "      <td>DISTRITO FEDERAL</td>\n",
              "      <td>TLALPAN</td>\n",
              "      <td>19.29699</td>\n",
              "      <td>-99.125417</td>\n",
              "    </tr>\n",
              "  </tbody>\n",
              "</table>\n",
              "</div>"
            ],
            "text/plain": [
              "                  producto                                   presentacion  \\\n",
              "0  CUADERNO FORMA ITALIANA          96 HOJAS PASTA DURA. CUADRICULA CHICA   \n",
              "1                 CRAYONES              CAJA 12 CERAS. JUMBO. C.B. 201423   \n",
              "2                 CRAYONES      CAJA 12 CERAS. TAMANO REGULAR C.B. 201034   \n",
              "3        COLORES DE MADERA  CAJA 12 PIEZAS LARGO. TRIANGULAR. C.B. 640646   \n",
              "4              COLOR LARGO        CAJA 36 PIEZAS. CON SACAPUNTAS. 68-4036   \n",
              "\n",
              "      marca         categoria          catalogo precio  \\\n",
              "0  ESTRELLA  MATERIAL ESCOLAR  UTILES ESCOLARES   25.9   \n",
              "1   CRAYOLA  MATERIAL ESCOLAR  UTILES ESCOLARES   27.5   \n",
              "2   CRAYOLA  MATERIAL ESCOLAR  UTILES ESCOLARES   13.9   \n",
              "3  PINCELIN  MATERIAL ESCOLAR  UTILES ESCOLARES   46.9   \n",
              "4   CRAYOLA  MATERIAL ESCOLAR  UTILES ESCOLARES  115.0   \n",
              "\n",
              "             fechaRegistro     cadenaComercial        giro  \\\n",
              "0  2011-05-18 00:00:00.000  ABASTECEDORA LUMEN  PAPELERIAS   \n",
              "1  2011-05-18 00:00:00.000  ABASTECEDORA LUMEN  PAPELERIAS   \n",
              "2  2011-05-18 00:00:00.000  ABASTECEDORA LUMEN  PAPELERIAS   \n",
              "3  2011-05-18 00:00:00.000  ABASTECEDORA LUMEN  PAPELERIAS   \n",
              "4  2011-05-18 00:00:00.000  ABASTECEDORA LUMEN  PAPELERIAS   \n",
              "\n",
              "                           nombreComercial  \\\n",
              "0  ABASTECEDORA LUMEN SUCURSAL VILLA COAPA   \n",
              "1  ABASTECEDORA LUMEN SUCURSAL VILLA COAPA   \n",
              "2  ABASTECEDORA LUMEN SUCURSAL VILLA COAPA   \n",
              "3  ABASTECEDORA LUMEN SUCURSAL VILLA COAPA   \n",
              "4  ABASTECEDORA LUMEN SUCURSAL VILLA COAPA   \n",
              "\n",
              "                               direccion            estado  \\\n",
              "0  CANNES No. 6 ESQ. CANAL DE MIRAMONTES  DISTRITO FEDERAL   \n",
              "1  CANNES No. 6 ESQ. CANAL DE MIRAMONTES  DISTRITO FEDERAL   \n",
              "2  CANNES No. 6 ESQ. CANAL DE MIRAMONTES  DISTRITO FEDERAL   \n",
              "3  CANNES No. 6 ESQ. CANAL DE MIRAMONTES  DISTRITO FEDERAL   \n",
              "4  CANNES No. 6 ESQ. CANAL DE MIRAMONTES  DISTRITO FEDERAL   \n",
              "\n",
              "                                  municipio   latitud   longitud  \n",
              "0  TLALPAN                                   19.29699 -99.125417  \n",
              "1  TLALPAN                                   19.29699 -99.125417  \n",
              "2  TLALPAN                                   19.29699 -99.125417  \n",
              "3  TLALPAN                                   19.29699 -99.125417  \n",
              "4  TLALPAN                                   19.29699 -99.125417  "
            ]
          },
          "metadata": {},
          "execution_count": 19
        }
      ],
      "metadata": {
        "colab": {
          "base_uri": "https://localhost:8080/",
          "height": 293
        },
        "id": "dr-OQoAkASJD",
        "outputId": "47f63e68-da94-4308-d861-6950b554230d"
      }
    },
    {
      "cell_type": "markdown",
      "source": [
        "## 1. How Many commercial chains are monitored, and therefore, included in this database?"
      ],
      "metadata": {
        "id": "4J2OmqXgO2Db"
      }
    },
    {
      "cell_type": "code",
      "execution_count": 2,
      "source": [
        "df.cadenaComercial.value_counts(dropna = True) "
      ],
      "outputs": [
        {
          "output_type": "execute_result",
          "data": {
            "text/plain": [
              "WAL-MART                           8643133\n",
              "BODEGA AURRERA                     6765453\n",
              "SORIANA                            6546211\n",
              "MEGA COMERCIAL MEXICANA            4899509\n",
              "CHEDRAUI                           4221625\n",
              "                                    ...   \n",
              "FARMACIA PROVIDENCIA                     7\n",
              "DANIEL S UNIFORMES                       5\n",
              "MUEBLERIA MI CASA                        5\n",
              "PESCADERIA EXPENDIO LOS RUFINOS          4\n",
              "PESCADERIA LA AMISTAD                    1\n",
              "Name: cadenaComercial, Length: 705, dtype: int64"
            ]
          },
          "metadata": {},
          "execution_count": 2
        }
      ],
      "metadata": {
        "colab": {
          "base_uri": "https://localhost:8080/"
        },
        "id": "5oLBJdB-HZgn",
        "outputId": "422164f6-5aaf-4b12-f4a3-2d619a3f7428"
      }
    },
    {
      "cell_type": "code",
      "execution_count": 3,
      "source": [
        "df.cadenaComercial.nunique(dropna = True) "
      ],
      "outputs": [
        {
          "output_type": "execute_result",
          "data": {
            "text/plain": [
              "705"
            ]
          },
          "metadata": {},
          "execution_count": 3
        }
      ],
      "metadata": {}
    },
    {
      "cell_type": "markdown",
      "source": [
        "## 2. What are the top 10 monitored products by State?"
      ],
      "metadata": {
        "id": "yRU1XrGPPTRR"
      }
    },
    {
      "cell_type": "code",
      "execution_count": 21,
      "source": [
        "df.groupby(\"estado\").apply(lambda x: x.producto.value_counts(dropna = False).nlargest(10)) "
      ],
      "outputs": [
        {
          "output_type": "execute_result",
          "data": {
            "text/plain": [
              "estado                                 \n",
              "AGUASCALIENTES  FUD                        12005\n",
              "                DETERGENTE P/ROPA          10188\n",
              "                LECHE ULTRAPASTEURIZADA     9824\n",
              "                SHAMPOO                     9654\n",
              "                REFRESCO                    9481\n",
              "                                           ...  \n",
              "ZACATECAS       SHAMPOO                    15012\n",
              "                CHILES EN LATA             14866\n",
              "                COMPONENTES DE AUDIO       14799\n",
              "                REFRESCO                   13925\n",
              "estado          producto                      20\n",
              "Name: producto, Length: 321, dtype: int64"
            ]
          },
          "metadata": {},
          "execution_count": 21
        }
      ],
      "metadata": {
        "colab": {
          "base_uri": "https://localhost:8080/"
        },
        "id": "jSbuueGoPvvE",
        "outputId": "d1c45fe3-4987-416b-da60-d7897006e3b2"
      }
    },
    {
      "cell_type": "markdown",
      "source": [
        "## 3. Which is the commercial chain with the highest number of monitored products?"
      ],
      "metadata": {
        "id": "XyK82dvvSb8F"
      }
    },
    {
      "cell_type": "code",
      "execution_count": 22,
      "source": [
        "df.groupby(\"cadenaComercial\").producto.nunique().sort_values(ascending=False).head(1) "
      ],
      "outputs": [
        {
          "output_type": "execute_result",
          "data": {
            "text/plain": [
              "cadenaComercial\n",
              "SORIANA    1059\n",
              "Name: producto, dtype: int64"
            ]
          },
          "metadata": {},
          "execution_count": 22
        }
      ],
      "metadata": {
        "colab": {
          "base_uri": "https://localhost:8080/"
        },
        "id": "SAlyYc7wSY1B",
        "outputId": "4aa5b402-58b7-42d3-a4f0-7f81046c33b5"
      }
    },
    {
      "cell_type": "markdown",
      "source": [
        "## 4. Use the data to find an interesting fact."
      ],
      "metadata": {
        "id": "HIhwwYrOU4EF"
      }
    },
    {
      "cell_type": "code",
      "execution_count": 42,
      "source": [
        "df.precio = pd.to_numeric(df.precio, errors = \"coerce\") "
      ],
      "outputs": [],
      "metadata": {}
    },
    {
      "cell_type": "code",
      "execution_count": 43,
      "source": [
        "expensive = df.precio.quantile(0.95)\r\n",
        "e_df = df[df.precio > expensive] \r\n",
        "expensive"
      ],
      "outputs": [
        {
          "output_type": "execute_result",
          "data": {
            "text/plain": [
              "2498.0"
            ]
          },
          "metadata": {},
          "execution_count": 43
        }
      ],
      "metadata": {
        "colab": {
          "base_uri": "https://localhost:8080/"
        },
        "id": "-nR0zmGwTVPr",
        "outputId": "ced8050d-62da-4aae-a443-21fea71603f9"
      }
    },
    {
      "cell_type": "code",
      "execution_count": 44,
      "source": [
        "#All products\r\n",
        "df.groupby(\"estado\").municipio.value_counts(normalize = True)"
      ],
      "outputs": [
        {
          "output_type": "execute_result",
          "data": {
            "text/plain": [
              "estado           municipio                               \n",
              "AGUASCALIENTES   AGUASCALIENTES                              0.608401\n",
              "                 AGUASCALIENTES                              0.391599\n",
              "BAJA CALIFORNIA  MEXICALI                                    0.351807\n",
              "                 ENSENADA                                    0.217337\n",
              "                 TIJUANA                                     0.213059\n",
              "                                                               ...   \n",
              "ZACATECAS        ZACATECAS                                   0.563561\n",
              "                 ZACATECAS                                   0.263421\n",
              "                 GUADALUPE                                   0.135417\n",
              "                 GUADALUPE                                   0.037601\n",
              "estado           municipio                                   1.000000\n",
              "Name: municipio, Length: 210, dtype: float64"
            ]
          },
          "metadata": {},
          "execution_count": 44
        }
      ],
      "metadata": {
        "colab": {
          "base_uri": "https://localhost:8080/"
        },
        "id": "k9teiCbtacF4",
        "outputId": "10daaca9-93c0-4882-9770-6a239f04af7a"
      }
    },
    {
      "cell_type": "code",
      "execution_count": 45,
      "source": [
        "#Only expensive products\r\n",
        "e_df.groupby(\"estado\").municipio.value_counts(normalize = True)"
      ],
      "outputs": [
        {
          "output_type": "execute_result",
          "data": {
            "text/plain": [
              "estado           municipio                               \n",
              "AGUASCALIENTES   AGUASCALIENTES                              0.669115\n",
              "                 AGUASCALIENTES                              0.330885\n",
              "BAJA CALIFORNIA  MEXICALI                                    0.428634\n",
              "                 ENSENADA                                    0.212362\n",
              "                 TIJUANA                                     0.208285\n",
              "                                                               ...   \n",
              "YUCATÁN          MÉRIDA                                      0.268092\n",
              "ZACATECAS        ZACATECAS                                   0.615154\n",
              "                 ZACATECAS                                   0.290715\n",
              "                 GUADALUPE                                   0.081995\n",
              "                 GUADALUPE                                   0.012136\n",
              "Name: municipio, Length: 187, dtype: float64"
            ]
          },
          "metadata": {},
          "execution_count": 45
        }
      ],
      "metadata": {
        "colab": {
          "base_uri": "https://localhost:8080/"
        },
        "id": "BB4IIjMfb6b9",
        "outputId": "5c4b02ff-5e23-4744-d542-64e8438aa788"
      }
    },
    {
      "cell_type": "markdown",
      "source": [
        "#### Repeated municipio names\r\n",
        "At first I was trying to analyze the distribution of expensive products in cities when I found that there are repeated municipio names in some states, it can be seen that \"ZACATECAS\" appear twice, there is probably some extra space in the data entry.  \r\n",
        "Fixing this error would imply going state by state to find repeated names and fixing them manually."
      ],
      "metadata": {
        "id": "fSsGnWfhcWnk"
      }
    },
    {
      "cell_type": "markdown",
      "source": [
        "## 5. What are the lessons learned from this exercise?"
      ],
      "metadata": {
        "id": "_Z-fRo8gdD1G"
      }
    },
    {
      "cell_type": "markdown",
      "source": [
        "Must ensure the data quality of the database before performing analysis"
      ],
      "metadata": {
        "id": "ZduHt_THdJuI"
      }
    },
    {
      "cell_type": "markdown",
      "source": [
        "## 6. Can you identify other ways to approach this problem? Explain."
      ],
      "metadata": {
        "id": "16NT0QZgdJkg"
      }
    },
    {
      "cell_type": "markdown",
      "source": [
        "I do not have enough RAM to load the complete file(20 GB), to make a complete analysis we would need to make process it in a distributed manner. Downloading the file to databricks and then running the analysis using PySpark APIs would allows to handle the whole file.\n",
        "\n",
        "We can even use the [Koalas](https://koalas.readthedocs.io/en/latest/) library to reuse the pandas code on spark altough it would run slower than using only Spark APIs.\n",
        "\n",
        "\n"
      ],
      "metadata": {
        "id": "CSu8MZ3DdJWA"
      }
    }
  ]
}